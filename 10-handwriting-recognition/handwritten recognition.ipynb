{
 "cells": [
  {
   "cell_type": "markdown",
   "metadata": {},
   "source": [
    "# Handwritten Digit Detection\n",
    "#### Helia Rasooli\n",
    "#### Zahra Bakhtiar\n",
    "#### Bahareh Behroozi\n",
    "#### Seyyedeh Zahra Fallah MirMousavi Ajdad"
   ]
  },
  {
   "cell_type": "markdown",
   "metadata": {},
   "source": [
    "# MNIST\n",
    "#### The MNIST database of handwritten digits, available from this page, has a training set of 60,000 examples, and a test set of 10,000 examples. It is a subset of a larger set available from NIST.\n",
    "##### http://yann.lecun.com/exdb/mnist/"
   ]
  },
  {
   "cell_type": "code",
   "execution_count": 1,
   "metadata": {},
   "outputs": [],
   "source": [
    "import warnings\n",
    "from matplotlib import pyplot as plt\n",
    "import pandas as pd\n",
    "import numpy as np\n",
    "from scipy import ndimage\n",
    "#import itertools\n",
    "\n",
    "\n",
    "warnings.filterwarnings(\"ignore\")\n",
    "\n",
    "def calculateDigitsAccuracy(predicted, actual):\n",
    "    correct = 0\n",
    "    for i in range(len(predicted)):\n",
    "        if predicted[i] == actual[i][0]:\n",
    "            correct += 1\n",
    "\n",
    "    return correct / len(actual)\n",
    "\n",
    "def calculateLettersAccuracy(predicted, actual):\n",
    "    correct = 0\n",
    "    for i in range(len(predicted)):\n",
    "        if predicted[i] == actual[i]:\n",
    "            correct += 1\n",
    "\n",
    "    return correct / len(actual)\n",
    "\n",
    "def showImage(data):\n",
    "    plt.imshow(np.reshape(data, (28, 28)), cmap='gray_r')\n",
    "    plt.show()\n",
    "    \n",
    "def showImage_L(data):\n",
    "    rotated_img = ndimage.rotate(np.reshape(data, (28, 28)), 90)\n",
    "    plt.imshow(rotated_img, cmap='gray_r',origin='lower')\n",
    "    plt.show()\n",
    "\n",
    "    \n",
    "def showPlot(points, xLabel, yLabel):\n",
    "    X = [x for (x, y) in points]\n",
    "    Y = [y for (x, y) in points]\n",
    "\n",
    "    plt.plot(X, Y)\n",
    "    plt.ylabel(yLabel)\n",
    "    plt.xlabel(xLabel)\n",
    "    plt.show()\n",
    "    \n",
    "def compareScores(X, trainScores, testScores, xlabel, ylabel):\n",
    "    fig, ax = plt.subplots()\n",
    "    for scores, label, style in [(trainScores, 'Train Data', ':ob'), (testScores, 'Test Data', ':or')]:\n",
    "        ax.plot(X, scores, style, label=label)\n",
    "        best_xy = max([(n, score) for n, score in zip(X, scores)], key=lambda x: x[1])\n",
    "        ax.annotate((best_xy[0], round(best_xy[1], 3)), xy=best_xy, xytext=(best_xy[0] + 5, best_xy[1]), arrowprops=dict(arrowstyle=\"->\"))\n",
    "    ax.legend()\n",
    "    ax.set(xlabel=xlabel, ylabel=ylabel)\n",
    "    fig.show()\n",
    "\n",
    "trainData = pd.read_csv('./MNIST_data/train_data.csv', header=None).values\n",
    "trainLabels = pd.read_csv('./MNIST_data/train_label.csv', header=None).values\n",
    "\n",
    "testData = pd.read_csv('./MNIST_data/test_data.csv', header=None).values\n",
    "testLabels = pd.read_csv('./MNIST_data/test_label.csv', header=None).values\n"
   ]
  },
  {
   "cell_type": "markdown",
   "metadata": {},
   "source": [
    "an example of number 6 in dataset :"
   ]
  },
  {
   "cell_type": "code",
   "execution_count": 2,
   "metadata": {},
   "outputs": [
    {
     "data": {
      "image/png": "[encoded data removed]",
      "text/plain": [
       "<Figure size 432x288 with 1 Axes>"
      ]
     },
     "metadata": {
      "needs_background": "light"
     },
     "output_type": "display_data"
    }
   ],
   "source": [
    "showImage(trainData[1310])"
   ]
  },
  {
   "cell_type": "markdown",
   "metadata": {},
   "source": [
    "# K-Nearest Neighbors "
   ]
  },
  {
   "cell_type": "markdown",
   "metadata": {},
   "source": [
    "#### 1."
   ]
  },
  {
   "cell_type": "markdown",
   "metadata": {},
   "source": [
    " In KNN algorithm the output of each test depends on the k closest training examples in the feature space.\n",
    "  * In k-NN classification, the output is a class membership. An object is classified by a plurality vote of its neighbors, with the object being assigned to the class most common among its k nearest neighborsa (k is a positive integer, typically small). If k = 1, then the object is simply assigned to the class of that single nearest neighbor.\n",
    "  * In k-NN regression, the output is the property value for the object. This value is the average of the values of k nearest neighbors.\n",
    "\n"
   ]
  },
  {
   "cell_type": "markdown",
   "metadata": {},
   "source": [
    "#### 2."
   ]
  },
  {
   "cell_type": "code",
   "execution_count": 3,
   "metadata": {},
   "outputs": [
    {
     "name": "stdout",
     "output_type": "stream",
     "text": [
      "train data accuracy: 0.9145\n",
      "test data accuracy: 0.91\n"
     ]
    }
   ],
   "source": [
    "from sklearn import neighbors\n",
    "\n",
    "clf = neighbors.KNeighborsClassifier(n_neighbors=12)\n",
    "clf.fit(trainData, trainLabels)\n",
    "\n",
    "predictedTrain = clf.predict(trainData)\n",
    "predictedTest = clf.predict(testData)\n",
    "\n",
    "trainAcc = calculateDigitsAccuracy(predictedTrain, trainLabels)\n",
    "testAcc = calculateDigitsAccuracy(predictedTest, testLabels)\n",
    "\n",
    "print('train data accuracy:', trainAcc)\n",
    "print('test data accuracy:', testAcc)"
   ]
  },
  {
   "cell_type": "markdown",
   "metadata": {},
   "source": [
    "#### 3."
   ]
  },
  {
   "cell_type": "code",
   "execution_count": 4,
   "metadata": {},
   "outputs": [],
   "source": [
    "trainScores = []\n",
    "testScores = []\n",
    "\n",
    "X = [x for x in range(5, 15)]\n",
    "\n",
    "for k in X:\n",
    "    clf = neighbors.KNeighborsClassifier(n_neighbors=k)\n",
    "    clf.fit(trainData, trainLabels)\n",
    "\n",
    "    predictedTrain = clf.predict(trainData)\n",
    "    predictedTest = clf.predict(testData)\n",
    "\n",
    "    trainAcc = calculateDigitsAccuracy(predictedTrain, trainLabels)\n",
    "    testAcc = calculateDigitsAccuracy(predictedTest, testLabels)\n",
    "\n",
    "    trainScores.append(trainAcc)\n",
    "    testScores.append(testAcc)"
   ]
  },
  {
   "cell_type": "code",
   "execution_count": 5,
   "metadata": {},
   "outputs": [
    {
     "data": {
      "image/png": "[encoded data removed]",
      "text/plain": [
       "<Figure size 432x288 with 1 Axes>"
      ]
     },
     "metadata": {
      "needs_background": "light"
     },
     "output_type": "display_data"
    }
   ],
   "source": [
    "compareScores(X, trainScores, testScores, 'K Neighbors', 'Accuracy')"
   ]
  },
  {
   "cell_type": "code",
   "execution_count": 6,
   "metadata": {},
   "outputs": [
    {
     "name": "stdout",
     "output_type": "stream",
     "text": [
      "[[1042 1012 1010 1008 1035 1143 1160 1045 1084 1091 1126 1157 1082 1135\n",
      "  1112 1174 1113 1004 1032 1129]]\n"
     ]
    },
    {
     "data": {
      "image/png": "[encoded data removed]",
      "text/plain": [
       "<Figure size 432x288 with 20 Axes>"
      ]
     },
     "metadata": {},
     "output_type": "display_data"
    }
   ],
   "source": [
    "clf = neighbors.KNeighborsClassifier(n_neighbors=20)\n",
    "clf.fit(trainData, trainLabels)\n",
    "nearests = clf.kneighbors([trainData[1042]], return_distance=False)\n",
    "print(nearests)\n",
    "fig, ax = plt.subplots(4, 5, subplot_kw=dict(xticks=[], yticks=[]))\n",
    "for (i, axi) in enumerate(ax.flat):\n",
    "    axi.imshow(np.reshape(trainData[nearests[0][i]], (28, 28)), cmap='gray_r')"
   ]
  },
  {
   "cell_type": "markdown",
   "metadata": {},
   "source": [
    "#### 6.\n",
    "\n",
    "* doesn't work well with high dimensional data\n",
    "* doesn't work well with categorical features\n",
    "* Heavy calculation and memory"
   ]
  },
  {
   "cell_type": "markdown",
   "metadata": {},
   "source": [
    "# Decision Tree"
   ]
  },
  {
   "cell_type": "markdown",
   "metadata": {},
   "source": [
    "#### 7.\n",
    "\n",
    "A decision tree is a flowchart-like structure in which each internal node represents a \"test\" on an attribute (e.g. whether a coin flip comes up heads or tails), each branch represents the outcome of the test, and each leaf node represents a class label (decision taken after computing all attributes). The paths from root to leaf represent classification rules."
   ]
  },
  {
   "cell_type": "code",
   "execution_count": 7,
   "metadata": {},
   "outputs": [
    {
     "name": "stdout",
     "output_type": "stream",
     "text": [
      "train data accuracy: 1.0\n",
      "test data accuracy: 0.725\n"
     ]
    }
   ],
   "source": [
    "from sklearn import tree\n",
    "\n",
    "clf = tree.DecisionTreeClassifier(max_depth=22)\n",
    "clf.fit(trainData, trainLabels)\n",
    "\n",
    "predictedTrain = clf.predict(trainData)\n",
    "predictedTest = clf.predict(testData)\n",
    "\n",
    "trainAcc = calculateDigitsAccuracy(predictedTrain, trainLabels)\n",
    "testAcc = calculateDigitsAccuracy(predictedTest, testLabels)\n",
    "\n",
    "print('train data accuracy:', trainAcc)\n",
    "print('test data accuracy:', testAcc)"
   ]
  },
  {
   "cell_type": "markdown",
   "metadata": {},
   "source": [
    "#### 9."
   ]
  },
  {
   "cell_type": "code",
   "execution_count": 8,
   "metadata": {},
   "outputs": [],
   "source": [
    "trainScores = []\n",
    "testScores = []\n",
    "\n",
    "X = range(5, 30)\n",
    "\n",
    "for depth in X:\n",
    "    clf = tree.DecisionTreeClassifier(max_depth=depth)\n",
    "    clf.fit(trainData, trainLabels)\n",
    "\n",
    "    predictedTrain = clf.predict(trainData)\n",
    "    predictedTest = clf.predict(testData)\n",
    "\n",
    "    trainAcc = calculateDigitsAccuracy(predictedTrain, trainLabels)\n",
    "    testAcc = calculateDigitsAccuracy(predictedTest, testLabels)\n",
    "\n",
    "    trainScores.append(trainAcc)\n",
    "    testScores.append(testAcc)"
   ]
  },
  {
   "cell_type": "code",
   "execution_count": 9,
   "metadata": {},
   "outputs": [
    {
     "data": {
      "image/png": "[encoded data removed]",
      "text/plain": [
       "<Figure size 432x288 with 1 Axes>"
      ]
     },
     "metadata": {
      "needs_background": "light"
     },
     "output_type": "display_data"
    }
   ],
   "source": [
    "compareScores(X, trainScores, testScores, 'Max Depth', 'Accuracy')"
   ]
  },
  {
   "cell_type": "markdown",
   "metadata": {},
   "source": [
    "## Logistic Regression"
   ]
  },
  {
   "cell_type": "markdown",
   "metadata": {},
   "source": [
    "#### 10."
   ]
  },
  {
   "cell_type": "markdown",
   "metadata": {},
   "source": [
    "Logistic Regression is used when the dependent variable(target) is categorical. It uses sigmod hypothesis function (1 / 1 + e^2) for prediction.\n",
    "\n",
    "Types of logistic regression:\n",
    "\n",
    "* Binary Logistic Regression: The categorical response has only two 2 possible outcomes. Example: Spam or Not\n",
    "* Multinomial Logistic Regression: Three or more categories without ordering. Example: Predicting which food is preferred more (Veg, Non-Veg, Vegan)\n",
    "* Ordinal Logistic Regression: Three or more categories with ordering. Example: Movie rating from 1 to 5"
   ]
  },
  {
   "cell_type": "markdown",
   "metadata": {},
   "source": [
    "#### 11."
   ]
  },
  {
   "cell_type": "code",
   "execution_count": 10,
   "metadata": {},
   "outputs": [],
   "source": [
    "from sklearn.linear_model import LogisticRegression\n",
    "\n",
    "clf = LogisticRegression(solver='lbfgs')\n",
    "clf.fit(trainData, trainLabels)\n",
    "\n",
    "predictedTrain = clf.predict(trainData)\n",
    "predictedTest = clf.predict(testData)\n",
    "\n",
    "trainAcc = calculateDigitsAccuracy(predictedTrain, trainLabels)\n",
    "testAcc = calculateDigitsAccuracy(predictedTest, testLabels)"
   ]
  },
  {
   "cell_type": "code",
   "execution_count": 11,
   "metadata": {},
   "outputs": [
    {
     "name": "stdout",
     "output_type": "stream",
     "text": [
      "train data accuracy: 1.0\n",
      "test data accuracy: 0.805\n"
     ]
    }
   ],
   "source": [
    "print('train data accuracy:', trainAcc) \n",
    "print('test data accuracy:', testAcc)"
   ]
  },
  {
   "cell_type": "markdown",
   "metadata": {},
   "source": [
    "# LETTER DETECTION"
   ]
  },
  {
   "cell_type": "code",
   "execution_count": 12,
   "metadata": {},
   "outputs": [
    {
     "name": "stdout",
     "output_type": "stream",
     "text": [
      "0\n",
      "10000\n",
      "60000\n",
      "0\n"
     ]
    }
   ],
   "source": [
    "trainData_L = []\n",
    "trainLabels_L = []\n",
    "testData_L = []\n",
    "testLabels_L = []\n",
    "train = []\n",
    "test = []\n",
    "train_z = pd.read_csv('./MNIST_data/emnist-letters-train.csv', header=None).values\n",
    "test_z = pd.read_csv('./MNIST_data/emnist-letters-test.csv', header=None).values\n",
    "for i in range(60000):\n",
    "    train.append(train_z[i][1:785])\n",
    "for i in range(10000):\n",
    "    test.append(test_z[i])\n",
    "\n",
    "trainLabel = [[row[i] for row in train] for i in range(1)][0]\n",
    "print(trainLabel[0])\n",
    "testLabels_L = [[row[i] for row in test] for i in range(1)][0]\n",
    "for i in range(0,(len(train))):\n",
    "    if(trainLabel[i] < 20):\n",
    "        trainData_L.append(train[i])\n",
    "        trainLabels_L.append(trainLabel[i])\n",
    "\n",
    "for i in range(0,(len(test))):\n",
    "    testData_L.append(test[i][1:785])\n",
    "    \n",
    "print(len(testData_L))\n",
    "print(len(trainData_L))\n",
    "print(trainLabels_L[10])"
   ]
  },
  {
   "cell_type": "code",
   "execution_count": 14,
   "metadata": {},
   "outputs": [],
   "source": [
    "train_z = pd.read_csv('./MNIST_data/emnist-letters-train.csv', header=None).values\n",
    "test_z = pd.read_csv('./MNIST_data/emnist-letters-test.csv', header=None).values\n",
    "\n",
    "\n",
    "trainData_L = []\n",
    "testData_L = []\n",
    "trainLabels_L = []\n",
    "testLabels_L = []\n",
    "for i in range(60000):\n",
    "    if(train_z[i][0] < 20):\n",
    "        trainData_L.append(train_z[i][1:785])\n",
    "        trainLabels_L.append(train_z[i][0])\n",
    "            \n",
    "for i in range(10000):\n",
    "    testData_L.append(train_z[i][1:785])\n",
    "    testLabels_L.append(train_z[i][0])\n",
    "\n"
   ]
  },
  {
   "cell_type": "markdown",
   "metadata": {},
   "source": [
    "an example of letter 'e' in dataset :"
   ]
  },
  {
   "cell_type": "code",
   "execution_count": 15,
   "metadata": {},
   "outputs": [
    {
     "data": {
      "image/png": "[encoded data removed]",
      "text/plain": [
       "<Figure size 432x288 with 1 Axes>"
      ]
     },
     "metadata": {
      "needs_background": "light"
     },
     "output_type": "display_data"
    }
   ],
   "source": [
    "showImage_L(trainData_L[10])"
   ]
  },
  {
   "cell_type": "markdown",
   "metadata": {},
   "source": [
    "## Logistic Regression"
   ]
  },
  {
   "cell_type": "code",
   "execution_count": 16,
   "metadata": {},
   "outputs": [],
   "source": [
    "from sklearn.linear_model import LogisticRegression\n",
    "\n",
    "clf = LogisticRegression(solver='lbfgs',  max_iter=500, multi_class='auto')\n",
    "clf.fit(trainData_L, trainLabels_L)\n",
    "\n",
    "predictedTrain = [clf.predict(trainData_L)]\n",
    "predictedTest = [clf.predict(testData_L)]\n",
    "\n",
    "trainAcc = calculateLettersAccuracy(predictedTrain[0], trainLabels_L)\n",
    "testAcc = calculateLettersAccuracy(predictedTest[0], testLabels_L)"
   ]
  },
  {
   "cell_type": "code",
   "execution_count": 17,
   "metadata": {},
   "outputs": [
    {
     "name": "stdout",
     "output_type": "stream",
     "text": [
      "train data accuracy: 0.7741190987614825\n",
      "test data accuracy: 0.5628\n"
     ]
    }
   ],
   "source": [
    "print('train data accuracy:', trainAcc)\n",
    "print('test data accuracy:', testAcc)"
   ]
  },
  {
   "cell_type": "markdown",
   "metadata": {},
   "source": [
    "# HandWritten Digit Detection(Using Neural Network : MLP)"
   ]
  },
  {
   "cell_type": "code",
   "execution_count": 18,
   "metadata": {},
   "outputs": [
    {
     "data": {
      "text/plain": [
       "MLPClassifier(activation='logistic', alpha=0.0001, batch_size='auto',\n",
       "              beta_1=0.9, beta_2=0.999, early_stopping=False, epsilon=1e-08,\n",
       "              hidden_layer_sizes=200, learning_rate='constant',\n",
       "              learning_rate_init=0.001, max_iter=1000, momentum=0.9,\n",
       "              n_iter_no_change=10, nesterovs_momentum=True, power_t=0.5,\n",
       "              random_state=None, shuffle=True, solver='adam', tol=0.0001,\n",
       "              validation_fraction=0.1, verbose=False, warm_start=False)"
      ]
     },
     "execution_count": 18,
     "metadata": {},
     "output_type": "execute_result"
    }
   ],
   "source": [
    "from sklearn.neural_network import MLPClassifier\n",
    "from sklearn.preprocessing import StandardScaler\n",
    "\n",
    "\n",
    "mlp = MLPClassifier(hidden_layer_sizes=(200),shuffle=True,momentum=0.9, activation='logistic', max_iter = 1000,learning_rate_init=0.001)\n",
    "mlp.fit(trainData, trainLabels)\n"
   ]
  },
  {
   "cell_type": "code",
   "execution_count": 19,
   "metadata": {
    "scrolled": true
   },
   "outputs": [
    {
     "name": "stdout",
     "output_type": "stream",
     "text": [
      "              precision    recall  f1-score   support\n",
      "\n",
      "           0       0.88      0.88      0.88        16\n",
      "           1       0.93      1.00      0.96        25\n",
      "           2       0.96      1.00      0.98        27\n",
      "           3       0.86      0.75      0.80        16\n",
      "           4       0.94      0.89      0.92        19\n",
      "           5       0.69      0.75      0.72        12\n",
      "           6       0.96      0.86      0.91        28\n",
      "           7       0.90      0.86      0.88        21\n",
      "           8       0.86      0.95      0.90        19\n",
      "           9       0.78      0.82      0.80        17\n",
      "\n",
      "    accuracy                           0.89       200\n",
      "   macro avg       0.88      0.88      0.87       200\n",
      "weighted avg       0.89      0.89      0.89       200\n",
      "\n"
     ]
    }
   ],
   "source": [
    "from sklearn.metrics import classification_report\n",
    "predicted = mlp.predict(testData)\n",
    "print(classification_report(testLabels,predicted))"
   ]
  },
  {
   "attachments": {
    "mlp.png": {
     "image/png": "[encoded data removed]"
    }
   },
   "cell_type": "markdown",
   "metadata": {},
   "source": [
    "![mlp.png](attachment:mlp.png)"
   ]
  },
  {
   "cell_type": "code",
   "execution_count": 20,
   "metadata": {},
   "outputs": [
    {
     "data": {
      "text/plain": [
       "0.89"
      ]
     },
     "execution_count": 20,
     "metadata": {},
     "output_type": "execute_result"
    }
   ],
   "source": [
    "calculateDigitsAccuracy(predicted, testLabels)"
   ]
  },
  {
   "cell_type": "markdown",
   "metadata": {},
   "source": [
    "# Digit Detection using Neural Network"
   ]
  },
  {
   "cell_type": "code",
   "execution_count": 21,
   "metadata": {},
   "outputs": [
    {
     "name": "stdout",
     "output_type": "stream",
     "text": [
      "60000\n",
      "------------------------------------------------------------------------------------\n",
      "Running Experiment using Perceptron Learning Rule for Thresholded Unit\n",
      "------------------------------------------------------------------------------------\n",
      "Training ...\n",
      "Training Classifier:  1\n",
      "Training Classifier:  2\n",
      "Training Classifier:  3\n",
      "Training Classifier:  4\n",
      "Training Classifier:  5\n",
      "Training Classifier:  6\n",
      "Training Classifier:  7\n",
      "Training Classifier:  8\n",
      "Training Classifier:  9\n",
      "Training Classifier:  10\n",
      "Training Time: 172.99 seconds\n",
      "Weights Learned!\n",
      "Classifying Test Images ...\n",
      "200\n",
      "200\n",
      "Prediction Time: 1.07 seconds\n",
      "Test Images Classified!\n",
      "Accuracy: 80.000000 %\n",
      "---------------------\n",
      "\n"
     ]
    }
   ],
   "source": [
    "import time\n",
    "\n",
    "# Global Variables\n",
    "\n",
    "training_size = 60000 \n",
    "testing_size = 200\n",
    "\n",
    "alpha = 0.01\n",
    "iterations = 2000 \n",
    "\n",
    "epochs = 15 \n",
    "\n",
    "labels = 10\n",
    "\n",
    "# --------------------------------------------------------\n",
    "\n",
    "def predict(weights, testData):\n",
    "    print(testing_size)\n",
    "    print(len(testData))\n",
    "    testData = np.hstack((np.ones((testing_size, 1)), testData))\n",
    "\n",
    "    predicted_labels = np.dot(weights, testData.T)\n",
    "\n",
    "    # signum activation function\n",
    "\n",
    "    predicted_labels = signum(predicted_labels)\n",
    "\n",
    "    predicted_labels = np.argmax(predicted_labels, axis=0)\n",
    "\n",
    "    return predicted_labels.T\n",
    "\n",
    "def signum(x):\n",
    "    x[x > 0] = 1\n",
    "    x[x <= 0] = -1\n",
    "\n",
    "    return x\n",
    "\n",
    "def learning(trainData, trainLabels, weights):\n",
    "    epochs_values = []\n",
    "    error_values = []\n",
    "\n",
    "    for k in range(epochs):\n",
    "        missclassified = 0\n",
    "\n",
    "        for t, l in zip(trainData, trainLabels):\n",
    "            h = np.dot(t, weights)\n",
    "\n",
    "            h = signum(h)\n",
    "\n",
    "            if h[0] != l[0]:\n",
    "                missclassified += 1\n",
    "\n",
    "            gradient = t * (h - l)\n",
    "\n",
    "            # reshape gradient\n",
    "            gradient = gradient.reshape(gradient.shape[0], -1)\n",
    "\n",
    "            weights = weights - (gradient * alpha)\n",
    "\n",
    "        error_values.append(missclassified / training_size)\n",
    "        epochs_values.append(k)\n",
    "\n",
    "    \n",
    "    \n",
    "\n",
    "    return weights\n",
    "\n",
    "\"\"\"Find optimal weights for each logistic binary classifier\"\"\"\n",
    "\n",
    "def train(trainData, trainLabels):\n",
    "    # add 1's as x0\n",
    "\n",
    "    trainData = np.hstack((np.ones((training_size, 1)), trainData))\n",
    "\n",
    "    # add w0 as 0 initially\n",
    "    all_weights = np.zeros((labels, trainData.shape[1]))\n",
    "\n",
    "    trainLabels = trainLabels.reshape((training_size, 1))\n",
    "\n",
    "    trainLabels_copy = np.copy(trainLabels)\n",
    "\n",
    "    for j in range(labels):\n",
    "\n",
    "        print(\"Training Classifier: \", j+1)\n",
    "\n",
    "        trainLabels = np.copy(trainLabels_copy)\n",
    "\n",
    "        # initialize all weights to zero\n",
    "        weights = np.zeros((trainData.shape[1], 1))\n",
    "\n",
    "        \n",
    "        for k in range(training_size):\n",
    "            if trainLabels[k, 0] == j:\n",
    "                trainLabels[k, 0] = 1\n",
    "            else:\n",
    "                trainLabels[k, 0] = -1\n",
    "\n",
    "        weights = learning(trainData, trainLabels, weights)\n",
    "\n",
    "        all_weights[j, :] = weights.T\n",
    "\n",
    "    return all_weights\n",
    "\n",
    "\n",
    "# --------------------------------------------------------\n",
    "def run(trainData, trainLabels, testData, testLabels):\n",
    "\n",
    "    print(\"------------------------------------------------------------------------------------\")\n",
    "    print(\"Running Experiment using Perceptron Learning Rule for Thresholded Unit\")\n",
    "    print(\"------------------------------------------------------------------------------------\")\n",
    "\n",
    "    print(\"Training ...\")\n",
    "    start_time = time.clock()\n",
    "    all_weights = train(trainData, trainLabels)\n",
    "    print(\"Training Time: %.2f seconds\" % (time.clock() - start_time))\n",
    "    print(\"Weights Learned!\")\n",
    "\n",
    "    print(\"Classifying Test Images ...\")\n",
    "    start_time = time.clock()\n",
    "    predicted_labels = predict(all_weights, testData)\n",
    "    print(\"Prediction Time: %.2f seconds\" % (time.clock() - start_time))\n",
    "\n",
    "    print(\"Test Images Classified!\")\n",
    "\n",
    "    accuracy = calculateDigitsAccuracy(predicted_labels, testLabels) * 100\n",
    "\n",
    "    print(\"Accuracy: %f\" % accuracy, \"%\")\n",
    "    print(\"---------------------\\n\")\n",
    "\n",
    "\n",
    "# --------------------------------------------------------\n",
    "\n",
    "def main():\n",
    "    # load data\n",
    "   \n",
    "    trainData = []\n",
    "    trainLabels = []\n",
    "\n",
    "    train_z = pd.read_csv('./MNIST_data/mnist_train.csv', header=None).values\n",
    "\n",
    "    for i in range(60000):\n",
    "        trainData.append(train_z[i][1:785])\n",
    "        trainLabels.append(train_z[i][0])\n",
    "\n",
    "\n",
    "\n",
    "    testData = pd.read_csv('./MNIST_data/test_data.csv', header=None).values\n",
    "    testLabels = pd.read_csv('./MNIST_data/test_label.csv', header=None).values\n",
    "\n",
    "    print(len(trainData))\n",
    "    trainData = np.array(trainData[0:training_size])\n",
    "    trainLabels = np.array(trainLabels[0:training_size])\n",
    "\n",
    "    testData = np.array(testData[0:testing_size])\n",
    "    testLabels = np.array(testLabels[0:testing_size])\n",
    "\n",
    "    run(trainData, trainLabels, testData, testLabels)\n",
    "\n",
    "\n",
    "# --------------------------------------------------------\n",
    "\n",
    "main()   "
   ]
  },
  {
   "cell_type": "markdown",
   "metadata": {},
   "source": [
    "# "
   ]
  },
  {
   "cell_type": "code",
   "execution_count": 22,
   "metadata": {},
   "outputs": [
    {
     "name": "stdout",
     "output_type": "stream",
     "text": [
      "------------------------------------------------------------------------------------\n",
      "Running Experiment using Perceptron Learning Rule for Thresholded Unit\n",
      "------------------------------------------------------------------------------------\n",
      "Training ...\n",
      "Training Classifier:  1\n",
      "Training Classifier:  2\n",
      "Training Classifier:  3\n",
      "Training Classifier:  4\n",
      "Training Classifier:  5\n",
      "Training Classifier:  6\n",
      "Training Classifier:  7\n",
      "Training Classifier:  8\n",
      "Training Classifier:  9\n",
      "Training Classifier:  10\n",
      "Training Classifier:  11\n",
      "Training Classifier:  12\n",
      "Training Classifier:  13\n",
      "Training Classifier:  14\n",
      "Training Classifier:  15\n",
      "Training Classifier:  16\n",
      "Training Classifier:  17\n",
      "Training Classifier:  18\n",
      "Training Classifier:  19\n",
      "Training Time: 252.51 seconds\n",
      "Weights Learned!\n",
      "Classifying Test Images ...\n",
      "10000\n",
      "10000\n",
      "Prediction Time: 0.18 seconds\n",
      "Test Images Classified!\n",
      "Accuracy: 31.890000 %\n",
      "---------------------\n",
      "\n"
     ]
    }
   ],
   "source": [
    "import time\n",
    "\n",
    "# Global Variables\n",
    "\n",
    "training_size = 43762\n",
    "testing_size = 10000\n",
    "\n",
    "alpha = 0.01\n",
    "iterations = 2000 \n",
    "\n",
    "epochs = 15  \n",
    "labels = 19\n",
    "\n",
    "# --------------------------------------------------------\n",
    "\n",
    "def predict(weights, testData_L):\n",
    "    print(testing_size)\n",
    "    print(len(testData_L))\n",
    "    testData_L = np.hstack((np.ones((testing_size, 1)), testData_L))\n",
    "\n",
    "    predicted_labels = np.dot(weights, testData_L.T)\n",
    "\n",
    "    predicted_labels = signum(predicted_labels)\n",
    "\n",
    "    predicted_labels = np.argmax(predicted_labels, axis=0)\n",
    "\n",
    "    return predicted_labels.T\n",
    "\n",
    "def signum(x):\n",
    "    x[x > 0] = 1\n",
    "    x[x <= 0] = -1\n",
    "\n",
    "    return x\n",
    "\n",
    "def learning(trainData_L, trainLabels_L, weights):\n",
    "    epochs_values = []\n",
    "    error_values = []\n",
    "\n",
    "    for k in range(epochs):\n",
    "        missclassified = 0\n",
    "\n",
    "        for t, l in zip(trainData_L, trainLabels_L):\n",
    "            h = np.dot(t, weights)\n",
    "\n",
    "            h = signum(h)\n",
    "\n",
    "            if h[0] != l[0]:\n",
    "                missclassified += 1\n",
    "\n",
    "            gradient = t * (h - l)\n",
    "\n",
    "            # reshape gradient\n",
    "            gradient = gradient.reshape(gradient.shape[0], -1)\n",
    "\n",
    "            weights = weights - (gradient * alpha)\n",
    "\n",
    "        error_values.append(missclassified / training_size)\n",
    "        epochs_values.append(k)\n",
    "\n",
    "    return weights\n",
    "\n",
    "\"\"\"Find optimal weights for each logistic binary classifier\"\"\"\n",
    "\n",
    "\n",
    "def train(trainData_L, trainLabels_L):\n",
    "    # add 1's as x0\n",
    "  \n",
    "    trainData_L = np.hstack((np.ones((training_size, 1)), trainData_L))\n",
    "\n",
    "    # add w0 as 0 initially\n",
    "    all_weights = np.zeros((labels, trainData_L.shape[1]))\n",
    "\n",
    "    trainLabels_L = trainLabels_L.reshape((training_size, 1))\n",
    "\n",
    "    trainLabels_L_copy = np.copy(trainLabels_L)\n",
    "\n",
    "    for j in range(labels):\n",
    "\n",
    "        print(\"Training Classifier: \", j+1)\n",
    "\n",
    "        trainLabels_L = np.copy(trainLabels_L_copy)\n",
    "\n",
    "        # initialize all weights to zero\n",
    "        weights = np.zeros((trainData_L.shape[1], 1))\n",
    "\n",
    "        \n",
    "        for k in range(training_size):\n",
    "            if trainLabels_L[k, 0] == j:\n",
    "                trainLabels_L[k, 0] = 1\n",
    "            else:\n",
    "                trainLabels_L[k, 0] = -1\n",
    "\n",
    "        weights = learning(trainData_L, trainLabels_L, weights)\n",
    "\n",
    "        all_weights[j, :] = weights.T\n",
    "\n",
    "    return all_weights\n",
    "\n",
    "\n",
    "# --------------------------------------------------------\n",
    "def run(trainData_L, trainLabels_L, testData_L, testLabels_L):\n",
    "\n",
    "    print(\"------------------------------------------------------------------------------------\")\n",
    "    print(\"Running Experiment using Perceptron Learning Rule for Thresholded Unit\")\n",
    "    print(\"------------------------------------------------------------------------------------\")\n",
    "\n",
    "    print(\"Training ...\")\n",
    "    start_time = time.clock()\n",
    "    all_weights = train(trainData_L, trainLabels_L)\n",
    "    print(\"Training Time: %.2f seconds\" % (time.clock() - start_time))\n",
    "    print(\"Weights Learned!\")\n",
    "\n",
    "    print(\"Classifying Test Images ...\")\n",
    "    start_time = time.clock()\n",
    "    predicted_labels = predict(all_weights, testData_L)\n",
    "    print(\"Prediction Time: %.2f seconds\" % (time.clock() - start_time))\n",
    "\n",
    "    print(\"Test Images Classified!\")\n",
    "\n",
    "    accuracy = calculateLettersAccuracy(predicted_labels, testLabels_L) * 100\n",
    "\n",
    "    print(\"Accuracy: %f\" % accuracy, \"%\")\n",
    "    print(\"---------------------\\n\")\n",
    "\n",
    "\n",
    "# --------------------------------------------------------\n",
    "\n",
    "def main():\n",
    "    # load data\n",
    "    \n",
    "    train_z = pd.read_csv('./MNIST_data/emnist-letters-train.csv', header=None).values\n",
    "    test_z = pd.read_csv('./MNIST_data/emnist-letters-test.csv', header=None).values\n",
    "\n",
    "    trainData_L = []\n",
    "    testData_L = []\n",
    "    trainLabels_L = []\n",
    "    testLabels_L = []\n",
    "    for i in range(60000):\n",
    "        if(train_z[i][0] < 20):\n",
    "            trainData_L.append(train_z[i][1:785])\n",
    "            trainLabels_L.append(train_z[i][0])\n",
    "            \n",
    "    for i in range(10000):\n",
    "        testData_L.append(train_z[i][1:785])\n",
    "        testLabels_L.append(train_z[i][0])\n",
    "\n",
    "    trainData_L = np.array(trainData_L[:training_size])\n",
    "    trainLabels_L = np.array(trainLabels_L[:training_size])\n",
    "\n",
    "    testData_L = np.array(testData_L[:testing_size])\n",
    "    testLabels_L = np.array(testLabels_L[:testing_size])\n",
    "\n",
    "   \n",
    "\n",
    "    run(trainData_L, trainLabels_L, testData_L, testLabels_L)\n",
    "\n",
    "  \n",
    "\n",
    "\n",
    "\n",
    "# --------------------------------------------------------\n",
    "\n",
    "\n",
    "main()   "
   ]
  },
  {
   "cell_type": "code",
   "execution_count": null,
   "metadata": {},
   "outputs": [],
   "source": []
  }
 ],
 "metadata": {
  "kernelspec": {
   "display_name": "Python 3",
   "language": "python",
   "name": "python3"
  },
  "language_info": {
   "codemirror_mode": {
    "name": "ipython",
    "version": 3
   },
   "file_extension": ".py",
   "mimetype": "text/x-python",
   "name": "python",
   "nbconvert_exporter": "python",
   "pygments_lexer": "ipython3",
   "version": "3.7.4"
  }
 },
 "nbformat": 4,
 "nbformat_minor": 2
}
